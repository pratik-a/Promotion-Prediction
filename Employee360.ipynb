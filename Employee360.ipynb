{
  "cells": [
    {
      "cell_type": "markdown",
      "metadata": {
        "id": "fCcRJEd_M-6F"
      },
      "source": [
        "# Imports"
      ]
    },
    {
      "cell_type": "code",
      "execution_count": 51,
      "metadata": {
        "id": "vmBj3OhO8pr0"
      },
      "outputs": [],
      "source": [
        "import pandas as pd\n",
        "import numpy as np\n",
        "import matplotlib.pyplot as plt\n",
        "import seaborn as sns"
      ]
    },
    {
      "cell_type": "code",
      "execution_count": 52,
      "metadata": {
        "id": "-NQYD_y48uJ7"
      },
      "outputs": [],
      "source": [
        "from sklearn.model_selection import train_test_split\n",
        "from sklearn.preprocessing import StandardScaler, LabelEncoder\n",
        "from sklearn.metrics import classification_report, confusion_matrix, roc_auc_score\n",
        "from imblearn.over_sampling import SMOTE\n",
        "\n",
        "from sklearn.ensemble import RandomForestClassifier\n",
        "from xgboost import XGBClassifier\n",
        "import joblib"
      ]
    },
    {
      "cell_type": "markdown",
      "metadata": {
        "id": "6EH5LC4DNdWi"
      },
      "source": [
        "# Deep Learning Imports\n"
      ]
    },
    {
      "cell_type": "code",
      "execution_count": 53,
      "metadata": {
        "id": "Vi0ms6d69VAU"
      },
      "outputs": [],
      "source": [
        "import tensorflow as tf\n",
        "from tensorflow.keras.models import Sequential\n",
        "from tensorflow.keras.layers import Dense, Dropout, BatchNormalization\n",
        "from tensorflow.keras.callbacks import EarlyStopping"
      ]
    },
    {
      "cell_type": "markdown",
      "metadata": {
        "id": "8TUlTtVyNt6K"
      },
      "source": [
        "# Load Dataset\n"
      ]
    },
    {
      "cell_type": "code",
      "execution_count": 55,
      "metadata": {
        "colab": {
          "base_uri": "https://localhost:8080/"
        },
        "id": "y9njVF5CFWNs",
        "outputId": "9daab3c5-f693-4825-8ea1-4205abc2135d"
      },
      "outputs": [
        {
          "name": "stdout",
          "output_type": "stream",
          "text": [
            "Dataset Shape: (54808, 14)\n"
          ]
        }
      ],
      "source": [
        "df = pd.read_csv(\"hr_analysis_data.csv\")\n",
        "print(\"Dataset Shape:\", df.shape)\n"
      ]
    },
    {
      "cell_type": "code",
      "execution_count": null,
      "metadata": {},
      "outputs": [
        {
          "name": "stdout",
          "output_type": "stream",
          "text": [
            "<class 'pandas.core.frame.DataFrame'>\n",
            "RangeIndex: 54808 entries, 0 to 54807\n",
            "Data columns (total 14 columns):\n",
            " #   Column                Non-Null Count  Dtype  \n",
            "---  ------                --------------  -----  \n",
            " 0   employee_id           54808 non-null  int64  \n",
            " 1   department            54808 non-null  object \n",
            " 2   region                54808 non-null  object \n",
            " 3   education             52399 non-null  object \n",
            " 4   gender                54808 non-null  object \n",
            " 5   recruitment_channel   54808 non-null  object \n",
            " 6   no_of_trainings       54808 non-null  int64  \n",
            " 7   age                   54808 non-null  int64  \n",
            " 8   previous_year_rating  50684 non-null  float64\n",
            " 9   length_of_service     54808 non-null  int64  \n",
            " 10  KPIs_met >80%         54808 non-null  int64  \n",
            " 11  awards_won?           54808 non-null  int64  \n",
            " 12  avg_training_score    54808 non-null  int64  \n",
            " 13  is_promoted           54808 non-null  int64  \n",
            "dtypes: float64(1), int64(8), object(5)\n",
            "memory usage: 5.9+ MB\n"
          ]
        }
      ],
      "source": [
        "df.info()"
      ]
    },
    {
      "cell_type": "code",
      "execution_count": null,
      "metadata": {},
      "outputs": [
        {
          "data": {
            "text/html": [
              "<div>\n",
              "<style scoped>\n",
              "    .dataframe tbody tr th:only-of-type {\n",
              "        vertical-align: middle;\n",
              "    }\n",
              "\n",
              "    .dataframe tbody tr th {\n",
              "        vertical-align: top;\n",
              "    }\n",
              "\n",
              "    .dataframe thead th {\n",
              "        text-align: right;\n",
              "    }\n",
              "</style>\n",
              "<table border=\"1\" class=\"dataframe\">\n",
              "  <thead>\n",
              "    <tr style=\"text-align: right;\">\n",
              "      <th></th>\n",
              "      <th>employee_id</th>\n",
              "      <th>no_of_trainings</th>\n",
              "      <th>age</th>\n",
              "      <th>previous_year_rating</th>\n",
              "      <th>length_of_service</th>\n",
              "      <th>KPIs_met &gt;80%</th>\n",
              "      <th>awards_won?</th>\n",
              "      <th>avg_training_score</th>\n",
              "      <th>is_promoted</th>\n",
              "    </tr>\n",
              "  </thead>\n",
              "  <tbody>\n",
              "    <tr>\n",
              "      <th>count</th>\n",
              "      <td>54808.000000</td>\n",
              "      <td>54808.000000</td>\n",
              "      <td>54808.000000</td>\n",
              "      <td>50684.000000</td>\n",
              "      <td>54808.000000</td>\n",
              "      <td>54808.000000</td>\n",
              "      <td>54808.000000</td>\n",
              "      <td>54808.000000</td>\n",
              "      <td>54808.000000</td>\n",
              "    </tr>\n",
              "    <tr>\n",
              "      <th>mean</th>\n",
              "      <td>39195.830627</td>\n",
              "      <td>1.253011</td>\n",
              "      <td>34.803915</td>\n",
              "      <td>3.329256</td>\n",
              "      <td>5.865512</td>\n",
              "      <td>0.351974</td>\n",
              "      <td>0.023172</td>\n",
              "      <td>63.386750</td>\n",
              "      <td>0.085170</td>\n",
              "    </tr>\n",
              "    <tr>\n",
              "      <th>std</th>\n",
              "      <td>22586.581449</td>\n",
              "      <td>0.609264</td>\n",
              "      <td>7.660169</td>\n",
              "      <td>1.259993</td>\n",
              "      <td>4.265094</td>\n",
              "      <td>0.477590</td>\n",
              "      <td>0.150450</td>\n",
              "      <td>13.371559</td>\n",
              "      <td>0.279137</td>\n",
              "    </tr>\n",
              "    <tr>\n",
              "      <th>min</th>\n",
              "      <td>1.000000</td>\n",
              "      <td>1.000000</td>\n",
              "      <td>20.000000</td>\n",
              "      <td>1.000000</td>\n",
              "      <td>1.000000</td>\n",
              "      <td>0.000000</td>\n",
              "      <td>0.000000</td>\n",
              "      <td>39.000000</td>\n",
              "      <td>0.000000</td>\n",
              "    </tr>\n",
              "    <tr>\n",
              "      <th>25%</th>\n",
              "      <td>19669.750000</td>\n",
              "      <td>1.000000</td>\n",
              "      <td>29.000000</td>\n",
              "      <td>3.000000</td>\n",
              "      <td>3.000000</td>\n",
              "      <td>0.000000</td>\n",
              "      <td>0.000000</td>\n",
              "      <td>51.000000</td>\n",
              "      <td>0.000000</td>\n",
              "    </tr>\n",
              "    <tr>\n",
              "      <th>50%</th>\n",
              "      <td>39225.500000</td>\n",
              "      <td>1.000000</td>\n",
              "      <td>33.000000</td>\n",
              "      <td>3.000000</td>\n",
              "      <td>5.000000</td>\n",
              "      <td>0.000000</td>\n",
              "      <td>0.000000</td>\n",
              "      <td>60.000000</td>\n",
              "      <td>0.000000</td>\n",
              "    </tr>\n",
              "    <tr>\n",
              "      <th>75%</th>\n",
              "      <td>58730.500000</td>\n",
              "      <td>1.000000</td>\n",
              "      <td>39.000000</td>\n",
              "      <td>4.000000</td>\n",
              "      <td>7.000000</td>\n",
              "      <td>1.000000</td>\n",
              "      <td>0.000000</td>\n",
              "      <td>76.000000</td>\n",
              "      <td>0.000000</td>\n",
              "    </tr>\n",
              "    <tr>\n",
              "      <th>max</th>\n",
              "      <td>78298.000000</td>\n",
              "      <td>10.000000</td>\n",
              "      <td>60.000000</td>\n",
              "      <td>5.000000</td>\n",
              "      <td>37.000000</td>\n",
              "      <td>1.000000</td>\n",
              "      <td>1.000000</td>\n",
              "      <td>99.000000</td>\n",
              "      <td>1.000000</td>\n",
              "    </tr>\n",
              "  </tbody>\n",
              "</table>\n",
              "</div>"
            ],
            "text/plain": [
              "        employee_id  no_of_trainings           age  previous_year_rating  \\\n",
              "count  54808.000000     54808.000000  54808.000000          50684.000000   \n",
              "mean   39195.830627         1.253011     34.803915              3.329256   \n",
              "std    22586.581449         0.609264      7.660169              1.259993   \n",
              "min        1.000000         1.000000     20.000000              1.000000   \n",
              "25%    19669.750000         1.000000     29.000000              3.000000   \n",
              "50%    39225.500000         1.000000     33.000000              3.000000   \n",
              "75%    58730.500000         1.000000     39.000000              4.000000   \n",
              "max    78298.000000        10.000000     60.000000              5.000000   \n",
              "\n",
              "       length_of_service  KPIs_met >80%   awards_won?  avg_training_score  \\\n",
              "count       54808.000000   54808.000000  54808.000000        54808.000000   \n",
              "mean            5.865512       0.351974      0.023172           63.386750   \n",
              "std             4.265094       0.477590      0.150450           13.371559   \n",
              "min             1.000000       0.000000      0.000000           39.000000   \n",
              "25%             3.000000       0.000000      0.000000           51.000000   \n",
              "50%             5.000000       0.000000      0.000000           60.000000   \n",
              "75%             7.000000       1.000000      0.000000           76.000000   \n",
              "max            37.000000       1.000000      1.000000           99.000000   \n",
              "\n",
              "        is_promoted  \n",
              "count  54808.000000  \n",
              "mean       0.085170  \n",
              "std        0.279137  \n",
              "min        0.000000  \n",
              "25%        0.000000  \n",
              "50%        0.000000  \n",
              "75%        0.000000  \n",
              "max        1.000000  "
            ]
          },
          "metadata": {},
          "output_type": "display_data"
        }
      ],
      "source": [
        "df.describe()"
      ]
    },
    {
      "cell_type": "markdown",
      "metadata": {
        "id": "cdM5qrLuOV-O"
      },
      "source": [
        "#Check and Fill Missing\n"
      ]
    },
    {
      "cell_type": "code",
      "execution_count": 56,
      "metadata": {
        "colab": {
          "base_uri": "https://localhost:8080/"
        },
        "id": "3FIhWCjnGGbn",
        "outputId": "d3bde67e-6fd8-4bcc-d41f-a6ca19f76cc5"
      },
      "outputs": [
        {
          "name": "stderr",
          "output_type": "stream",
          "text": [
            "<ipython-input-56-e6bd09b750da>:1: FutureWarning: A value is trying to be set on a copy of a DataFrame or Series through chained assignment using an inplace method.\n",
            "The behavior will change in pandas 3.0. This inplace method will never work because the intermediate object on which we are setting values always behaves as a copy.\n",
            "\n",
            "For example, when doing 'df[col].method(value, inplace=True)', try using 'df.method({col: value}, inplace=True)' or df[col] = df[col].method(value) instead, to perform the operation inplace on the original object.\n",
            "\n",
            "\n",
            "  df['previous_year_rating'].fillna(df['previous_year_rating'].median(), inplace=True)\n"
          ]
        }
      ],
      "source": [
        "df['previous_year_rating'].fillna(df['previous_year_rating'].median(), inplace=True)"
      ]
    },
    {
      "cell_type": "markdown",
      "metadata": {
        "id": "ylXWv8MxOiQs"
      },
      "source": [
        "#Label Encoding"
      ]
    },
    {
      "cell_type": "code",
      "execution_count": 57,
      "metadata": {
        "colab": {
          "base_uri": "https://localhost:8080/"
        },
        "id": "yS9vAjS-GXwA",
        "outputId": "ad869710-803f-452f-9236-ad68f29451bf"
      },
      "outputs": [
        {
          "name": "stderr",
          "output_type": "stream",
          "text": [
            "<ipython-input-57-b0f12e7cc94f>:1: FutureWarning: A value is trying to be set on a copy of a DataFrame or Series through chained assignment using an inplace method.\n",
            "The behavior will change in pandas 3.0. This inplace method will never work because the intermediate object on which we are setting values always behaves as a copy.\n",
            "\n",
            "For example, when doing 'df[col].method(value, inplace=True)', try using 'df.method({col: value}, inplace=True)' or df[col] = df[col].method(value) instead, to perform the operation inplace on the original object.\n",
            "\n",
            "\n",
            "  df['previous_year_rating'].fillna(df['previous_year_rating'].median(), inplace=True)\n"
          ]
        }
      ],
      "source": [
        "df['previous_year_rating'].fillna(df['previous_year_rating'].median(), inplace=True)\n",
        "\n",
        "label_cols = ['department', 'education', 'gender']\n",
        "for col in label_cols:\n",
        "    df[col] = LabelEncoder().fit_transform(df[col])\n"
      ]
    },
    {
      "cell_type": "markdown",
      "metadata": {
        "id": "5xqNSg3eP1zY"
      },
      "source": [
        "# Feature Engineering: Create Synthetic Target"
      ]
    },
    {
      "cell_type": "code",
      "execution_count": 58,
      "metadata": {
        "id": "PNw3Tr59P-vD"
      },
      "outputs": [],
      "source": [
        "df['is_promoted'] = ((df['awards_won?'] == 1) &\n",
        "                     (df['KPIs_met >80%'] == 1) &\n",
        "                     (df['previous_year_rating'] >= 4)).astype(int)"
      ]
    },
    {
      "cell_type": "markdown",
      "metadata": {
        "id": "ndXG1UYeOvU5"
      },
      "source": [
        "# Add Tenure Group\n"
      ]
    },
    {
      "cell_type": "code",
      "execution_count": 60,
      "metadata": {
        "id": "g6jkG_X_Gne0"
      },
      "outputs": [],
      "source": [
        "df['tenure_group'] = pd.cut(df['length_of_service'],\n",
        "                            bins=[0, 2, 5, 10, 20],\n",
        "                            labels=['0-2', '3-5', '6-10', '10+'])\n",
        "df = pd.get_dummies(df, columns=['tenure_group'], drop_first=True)"
      ]
    },
    {
      "cell_type": "markdown",
      "metadata": {
        "id": "fyfLI0nNQLLN"
      },
      "source": [
        "# Features and Target\n"
      ]
    },
    {
      "cell_type": "code",
      "execution_count": 61,
      "metadata": {
        "id": "5KMxebJiHDK1"
      },
      "outputs": [],
      "source": [
        "# Step 5: Feature Selection\n",
        "features = ['age', 'education', 'previous_year_rating', 'length_of_service',\n",
        "            'KPIs_met >80%', 'awards_won?', 'avg_training_score',\n",
        "            'department', 'gender'] + [col for col in df.columns if 'tenure_group_' in col]"
      ]
    },
    {
      "cell_type": "code",
      "execution_count": 63,
      "metadata": {
        "id": "Sq5FCN8aHJAK"
      },
      "outputs": [],
      "source": [
        "X = df[features]\n",
        "y = df['is_promoted']"
      ]
    },
    {
      "cell_type": "markdown",
      "metadata": {
        "id": "RgQ-wU3uQVBi"
      },
      "source": [
        "# Balance Classes\n"
      ]
    },
    {
      "cell_type": "code",
      "execution_count": 64,
      "metadata": {
        "id": "LTnTNL6bHLoc"
      },
      "outputs": [],
      "source": [
        "X_resampled, y_resampled = SMOTE(random_state=42).fit_resample(X, y)"
      ]
    },
    {
      "cell_type": "markdown",
      "metadata": {
        "id": "JcMBP1s-QZsb"
      },
      "source": [
        "# Train-Test Split\n"
      ]
    },
    {
      "cell_type": "code",
      "execution_count": null,
      "metadata": {
        "id": "cighHoiaJsgC"
      },
      "outputs": [],
      "source": [
        "X_train, X_test, y_train, y_test = train_test_split(X_resampled, y_resampled, test_size=0.2, random_state=42)"
      ]
    },
    {
      "cell_type": "markdown",
      "metadata": {
        "id": "nLXmaJWOQfoz"
      },
      "source": [
        "#Scale Features\n"
      ]
    },
    {
      "cell_type": "code",
      "execution_count": 65,
      "metadata": {
        "id": "h3od0zWVJvBT"
      },
      "outputs": [],
      "source": [
        "scaler = StandardScaler()\n",
        "X_train_scaled = scaler.fit_transform(X_train)\n",
        "X_test_scaled = scaler.transform(X_test)"
      ]
    },
    {
      "cell_type": "markdown",
      "metadata": {
        "id": "DZEO1tRFQld4"
      },
      "source": [
        "# Random Forest\n"
      ]
    },
    {
      "cell_type": "code",
      "execution_count": 67,
      "metadata": {
        "id": "jnGtCdxVJ1VP"
      },
      "outputs": [],
      "source": [
        "rf = RandomForestClassifier(n_estimators=100, random_state=42)\n",
        "rf.fit(X_train_scaled, y_train)\n",
        "rf_pred = rf.predict(X_test_scaled)"
      ]
    },
    {
      "cell_type": "code",
      "execution_count": null,
      "metadata": {},
      "outputs": [
        {
          "name": "stderr",
          "output_type": "stream",
          "text": [
            "<ipython-input-29-94bfd64a5b77>:6: FutureWarning: \n",
            "\n",
            "Passing `palette` without assigning `hue` is deprecated and will be removed in v0.14.0. Assign the `y` variable to `hue` and set `legend=False` for the same effect.\n",
            "\n",
            "  sns.barplot(data=feat_imp, x='Importance', y='Feature', palette='viridis')\n",
            "<ipython-input-29-94bfd64a5b77>:8: UserWarning: Glyph 128200 (\\N{CHART WITH UPWARDS TREND}) missing from font(s) DejaVu Sans.\n",
            "  plt.tight_layout()\n",
            "/usr/local/lib/python3.11/dist-packages/IPython/core/pylabtools.py:151: UserWarning: Glyph 128200 (\\N{CHART WITH UPWARDS TREND}) missing from font(s) DejaVu Sans.\n",
            "  fig.canvas.print_figure(bytes_io, **kw)\n"
          ]
        },
        {
          "data": {
            "image/png": "[encoded data removed]",
            "text/plain": [
              "<Figure size 1000x600 with 1 Axes>"
            ]
          },
          "metadata": {},
          "output_type": "display_data"
        }
      ],
      "source": [
        "importances = rf.feature_importances_\n",
        "features = X_train.columns if isinstance(X_train, pd.DataFrame) else [f\"Feature {i}\" for i in range(X_train.shape[1])]\n",
        "feat_imp = pd.DataFrame({'Feature': features, 'Importance': importances}).sort_values(by='Importance', ascending=False)\n",
        "\n",
        "plt.figure(figsize=(10, 6))\n",
        "sns.barplot(data=feat_imp, x='Importance', y='Feature', palette='viridis')\n",
        "plt.title(\"📈 Feature Importances (Random Forest)\")\n",
        "plt.tight_layout()\n",
        "plt.show()"
      ]
    },
    {
      "cell_type": "code",
      "execution_count": 69,
      "metadata": {
        "colab": {
          "base_uri": "https://localhost:8080/"
        },
        "id": "W_GcNboEJ94N",
        "outputId": "9452455d-d2dc-4986-ad3f-d916ad0cf32e"
      },
      "outputs": [
        {
          "name": "stdout",
          "output_type": "stream",
          "text": [
            "\n",
            " Random Forest:\n",
            "              precision    recall  f1-score   support\n",
            "\n",
            "           0       0.95      0.93      0.94     10197\n",
            "           1       0.93      0.95      0.94      9859\n",
            "\n",
            "    accuracy                           0.94     20056\n",
            "   macro avg       0.94      0.94      0.94     20056\n",
            "weighted avg       0.94      0.94      0.94     20056\n",
            "\n",
            "ROC AUC: 0.943385361129436\n"
          ]
        }
      ],
      "source": [
        "print(\"\\n Random Forest:\")\n",
        "print(classification_report(y_test, rf_pred))\n",
        "print(\"ROC AUC:\", roc_auc_score(y_test, rf_pred))"
      ]
    },
    {
      "cell_type": "markdown",
      "metadata": {
        "id": "elK2Skj0Qus4"
      },
      "source": [
        "# XGBoost\n"
      ]
    },
    {
      "cell_type": "code",
      "execution_count": 70,
      "metadata": {
        "colab": {
          "base_uri": "https://localhost:8080/"
        },
        "id": "1BT12_gWKBR4",
        "outputId": "9a447735-bd56-42d7-ec40-e6d93393007a"
      },
      "outputs": [
        {
          "name": "stderr",
          "output_type": "stream",
          "text": [
            "/usr/local/lib/python3.11/dist-packages/xgboost/core.py:158: UserWarning: [18:15:51] WARNING: /workspace/src/learner.cc:740: \n",
            "Parameters: { \"use_label_encoder\" } are not used.\n",
            "\n",
            "  warnings.warn(smsg, UserWarning)\n"
          ]
        }
      ],
      "source": [
        "xgb = XGBClassifier(use_label_encoder=False, eval_metric='logloss')\n",
        "xgb.fit(X_train_scaled, y_train)\n",
        "xgb_pred = xgb.predict(X_test_scaled)"
      ]
    },
    {
      "cell_type": "code",
      "execution_count": 71,
      "metadata": {
        "colab": {
          "base_uri": "https://localhost:8080/"
        },
        "id": "Rps4Q_VHKEM6",
        "outputId": "9231cd4b-b7ee-4a77-dcef-73aec3f2ffc6"
      },
      "outputs": [
        {
          "name": "stdout",
          "output_type": "stream",
          "text": [
            "\n",
            "XGBoost Classifier:\n",
            "              precision    recall  f1-score   support\n",
            "\n",
            "           0       0.91      0.89      0.90     10197\n",
            "           1       0.89      0.90      0.90      9859\n",
            "\n",
            "    accuracy                           0.90     20056\n",
            "   macro avg       0.90      0.90      0.90     20056\n",
            "weighted avg       0.90      0.90      0.90     20056\n",
            "\n",
            "ROC AUC: 0.8979913932670125\n"
          ]
        }
      ],
      "source": [
        "print(\"\\nXGBoost Classifier:\")\n",
        "print(classification_report(y_test, xgb_pred))\n",
        "print(\"ROC AUC:\", roc_auc_score(y_test, xgb_pred))"
      ]
    },
    {
      "cell_type": "markdown",
      "metadata": {
        "id": "SnJvl67rQ04n"
      },
      "source": [
        "# DNN with Dropout\n"
      ]
    },
    {
      "cell_type": "code",
      "execution_count": 72,
      "metadata": {
        "colab": {
          "base_uri": "https://localhost:8080/"
        },
        "id": "XGXDpNQSKH3S",
        "outputId": "1054507a-3d68-49ef-b532-5d1549d937f2"
      },
      "outputs": [
        {
          "name": "stderr",
          "output_type": "stream",
          "text": [
            "/usr/local/lib/python3.11/dist-packages/keras/src/layers/core/dense.py:87: UserWarning: Do not pass an `input_shape`/`input_dim` argument to a layer. When using Sequential models, prefer using an `Input(shape)` object as the first layer in the model instead.\n",
            "  super().__init__(activity_regularizer=activity_regularizer, **kwargs)\n"
          ]
        }
      ],
      "source": [
        "dl1 = Sequential([\n",
        "    Dense(64, activation='relu', input_shape=(X_train_scaled.shape[1],)),\n",
        "    Dropout(0.3),\n",
        "    Dense(32, activation='relu'),\n",
        "    Dropout(0.3),\n",
        "    Dense(1, activation='sigmoid')\n",
        "])"
      ]
    },
    {
      "cell_type": "code",
      "execution_count": null,
      "metadata": {},
      "outputs": [
        {
          "name": "stdout",
          "output_type": "stream",
          "text": [
            "Model: \"sequential\"\n",
            "_________________________________________________________________\n",
            "Layer (type)                 Output Shape              Param #   \n",
            "=================================================================\n",
            "dense (Dense)                (None, 64)                832       \n",
            "_________________________________________________________________\n",
            "dropout (Dropout)            (None, 64)                0         \n",
            "_________________________________________________________________\n",
            "dense_1 (Dense)              (None, 32)                2080      \n",
            "_________________________________________________________________\n",
            "dropout_1 (Dropout)          (None, 32)                0         \n",
            "_________________________________________________________________\n",
            "dense_2 (Dense)              (None, 1)                 33        \n",
            "=================================================================\n",
            "Total params: 2,945\n",
            "Trainable params: 2,945\n",
            "Non-trainable params: 0\n",
            "_________________________________________________________________\n"
          ]
        }
      ],
      "source": [
        "dl1.summary()"
      ]
    },
    {
      "cell_type": "code",
      "execution_count": 73,
      "metadata": {
        "id": "_I-sjwv9KNDV"
      },
      "outputs": [],
      "source": [
        "dl1.compile(optimizer='adam', loss='binary_crossentropy', metrics=['accuracy'])\n",
        "history1 = dl1.fit(X_train_scaled, y_train, epochs=30, batch_size=64, validation_split=0.2,\n",
        "                   callbacks=[EarlyStopping(monitor='val_loss', patience=5)], verbose=0)"
      ]
    },
    {
      "cell_type": "code",
      "execution_count": 74,
      "metadata": {
        "colab": {
          "base_uri": "https://localhost:8080/"
        },
        "id": "PH3kvTJRKRoz",
        "outputId": "b50c3133-0f1b-41cc-c4dd-a0f06f82a924"
      },
      "outputs": [
        {
          "name": "stdout",
          "output_type": "stream",
          "text": [
            "\u001b[1m627/627\u001b[0m \u001b[32m━━━━━━━━━━━━━━━━━━━━\u001b[0m\u001b[37m\u001b[0m \u001b[1m1s\u001b[0m 1ms/step\n",
            "\n",
            " DNN (Dropout):\n",
            "              precision    recall  f1-score   support\n",
            "\n",
            "           0       0.92      0.71      0.80     10197\n",
            "           1       0.76      0.94      0.84      9859\n",
            "\n",
            "    accuracy                           0.82     20056\n",
            "   macro avg       0.84      0.82      0.82     20056\n",
            "weighted avg       0.84      0.82      0.82     20056\n",
            "\n",
            "ROC AUC: 0.8211908981660536\n"
          ]
        }
      ],
      "source": [
        "dl1_pred = (dl1.predict(X_test_scaled) > 0.5).astype(\"int32\")\n",
        "print(\"\\n DNN (Dropout):\")\n",
        "print(classification_report(y_test, dl1_pred))\n",
        "print(\"ROC AUC:\", roc_auc_score(y_test, dl1_pred))"
      ]
    },
    {
      "cell_type": "markdown",
      "metadata": {
        "id": "b5m_AG3IRpf0"
      },
      "source": [
        "# DNN with BatchNorm\n"
      ]
    },
    {
      "cell_type": "code",
      "execution_count": 75,
      "metadata": {
        "colab": {
          "base_uri": "https://localhost:8080/"
        },
        "id": "Ua1QxBGPKUVO",
        "outputId": "64ac807b-e2a7-4eaf-f5a5-91604e653964"
      },
      "outputs": [
        {
          "name": "stderr",
          "output_type": "stream",
          "text": [
            "/usr/local/lib/python3.11/dist-packages/keras/src/layers/core/dense.py:87: UserWarning: Do not pass an `input_shape`/`input_dim` argument to a layer. When using Sequential models, prefer using an `Input(shape)` object as the first layer in the model instead.\n",
            "  super().__init__(activity_regularizer=activity_regularizer, **kwargs)\n"
          ]
        }
      ],
      "source": [
        "dl2 = Sequential([\n",
        "    Dense(128, input_shape=(X_train_scaled.shape[1],)),\n",
        "    BatchNormalization(),\n",
        "    tf.keras.layers.ReLU(),\n",
        "    Dropout(0.3),\n",
        "    Dense(64),\n",
        "    BatchNormalization(),\n",
        "    tf.keras.layers.ReLU(),\n",
        "    Dropout(0.3),\n",
        "    Dense(1, activation='sigmoid')\n",
        "])"
      ]
    },
    {
      "cell_type": "code",
      "execution_count": null,
      "metadata": {},
      "outputs": [
        {
          "name": "stdout",
          "output_type": "stream",
          "text": [
            "Model: \"sequential_1\"\n",
            "_________________________________________________________________\n",
            "Layer (type)                 Output Shape              Param #   \n",
            "=================================================================\n",
            "dense_3 (Dense)              (None, 128)               1664      \n",
            "_________________________________________________________________\n",
            "batch_normalization (BatchNo (None, 128)               512       \n",
            "_________________________________________________________________\n",
            "re_lu (ReLU)                 (None, 128)               0         \n",
            "_________________________________________________________________\n",
            "dropout_2 (Dropout)          (None, 128)               0         \n",
            "_________________________________________________________________\n",
            "dense_4 (Dense)              (None, 64)                8256      \n",
            "_________________________________________________________________\n",
            "batch_normalization_1 (Batch (None, 64)                256       \n",
            "_________________________________________________________________\n",
            "re_lu_1 (ReLU)               (None, 64)                0         \n",
            "_________________________________________________________________\n",
            "dropout_3 (Dropout)          (None, 64)                0         \n",
            "_________________________________________________________________\n",
            "dense_5 (Dense)              (None, 1)                 65        \n",
            "=================================================================\n",
            "Total params: 10,753\n",
            "Trainable params: 10,369\n",
            "Non-trainable params: 384\n",
            "_________________________________________________________________\n"
          ]
        }
      ],
      "source": [
        "dl2.summary()"
      ]
    },
    {
      "cell_type": "code",
      "execution_count": 76,
      "metadata": {
        "id": "Dtdep-94KzTn"
      },
      "outputs": [],
      "source": [
        "dl2.compile(optimizer='adam', loss='binary_crossentropy', metrics=['accuracy'])\n",
        "history2 = dl2.fit(X_train_scaled, y_train, epochs=30, batch_size=64, validation_split=0.2,\n",
        "                   callbacks=[EarlyStopping(monitor='val_loss', patience=5)], verbose=0)"
      ]
    },
    {
      "cell_type": "code",
      "execution_count": 77,
      "metadata": {
        "colab": {
          "base_uri": "https://localhost:8080/"
        },
        "id": "35KzXxDeLBO2",
        "outputId": "54dbadb7-5e94-4e0a-99af-15b41db5ffbe"
      },
      "outputs": [
        {
          "name": "stdout",
          "output_type": "stream",
          "text": [
            "\u001b[1m627/627\u001b[0m \u001b[32m━━━━━━━━━━━━━━━━━━━━\u001b[0m\u001b[37m\u001b[0m \u001b[1m1s\u001b[0m 1ms/step\n",
            "\n",
            "DNN (BatchNorm):\n",
            "              precision    recall  f1-score   support\n",
            "\n",
            "           0       0.89      0.75      0.82     10197\n",
            "           1       0.78      0.90      0.84      9859\n",
            "\n",
            "    accuracy                           0.83     20056\n",
            "   macro avg       0.83      0.83      0.83     20056\n",
            "weighted avg       0.84      0.83      0.83     20056\n",
            "\n",
            "ROC AUC: 0.8284493718993959\n"
          ]
        }
      ],
      "source": [
        "dl2_pred = (dl2.predict(X_test_scaled) > 0.5).astype(\"int32\")\n",
        "print(\"\\nDNN (BatchNorm):\")\n",
        "print(classification_report(y_test, dl2_pred))\n",
        "print(\"ROC AUC:\", roc_auc_score(y_test, dl2_pred))"
      ]
    },
    {
      "cell_type": "code",
      "execution_count": 78,
      "metadata": {
        "colab": {
          "base_uri": "https://localhost:8080/",
          "height": 472
        },
        "id": "x2bxxTuSLDXa",
        "outputId": "6772ca1b-c141-40b8-c14d-c9bc0bddc385"
      },
      "outputs": [
        {
          "data": {
            "image/png": "[encoded data removed]",
            "text/plain": [
              "<Figure size 640x480 with 1 Axes>"
            ]
          },
          "metadata": {},
          "output_type": "display_data"
        }
      ],
      "source": [
        "# Plot DL Accuracy Comparison\n",
        "plt.plot(history1.history['val_accuracy'], label='DNN Dropout')\n",
        "plt.plot(history2.history['val_accuracy'], label='DNN BatchNorm')\n",
        "plt.title('DL Model Validation Accuracy')\n",
        "plt.xlabel('Epoch')\n",
        "plt.ylabel('Val Accuracy')\n",
        "plt.legend()\n",
        "plt.grid(True)\n",
        "plt.show()"
      ]
    },
    {
      "cell_type": "code",
      "execution_count": 79,
      "metadata": {
        "colab": {
          "base_uri": "https://localhost:8080/"
        },
        "id": "RKDRprarLmZf",
        "outputId": "9b36a7d2-d724-442b-d725-c7958b909bd1"
      },
      "outputs": [
        {
          "name": "stderr",
          "output_type": "stream",
          "text": [
            "WARNING:absl:You are saving your model as an HDF5 file via `model.save()` or `keras.saving.save_model(model)`. This file format is considered legacy. We recommend using instead the native Keras format, e.g. `model.save('my_model.keras')` or `keras.saving.save_model(model, 'my_model.keras')`. \n",
            "WARNING:absl:You are saving your model as an HDF5 file via `model.save()` or `keras.saving.save_model(model)`. This file format is considered legacy. We recommend using instead the native Keras format, e.g. `model.save('my_model.keras')` or `keras.saving.save_model(model, 'my_model.keras')`. \n"
          ]
        },
        {
          "name": "stdout",
          "output_type": "stream",
          "text": [
            "\n",
            " All models saved.\n"
          ]
        }
      ],
      "source": [
        "# Save All Models\n",
        "joblib.dump(rf, 'rf_model.pkl')\n",
        "joblib.dump(xgb, 'xgb_model.pkl')\n",
        "joblib.dump(scaler, 'scaler.pkl')\n",
        "dl1.save(\"dl_model_dropout.h5\")\n",
        "dl2.save(\"dl_model_batchnorm.h5\")\n",
        "\n",
        "print(\"\\n All models saved.\")"
      ]
    },
    {
      "cell_type": "code",
      "execution_count": 80,
      "metadata": {
        "colab": {
          "base_uri": "https://localhost:8080/"
        },
        "id": "RFi3F29PLqH4",
        "outputId": "07f6bbce-fec5-481c-d34a-2b6cd4d23cf2"
      },
      "outputs": [
        {
          "name": "stdout",
          "output_type": "stream",
          "text": [
            "\n",
            " Model Comparison:\n",
            "Random Forest        | Accuracy: 0.9432 | ROC AUC: 0.9434\n",
            "XGBoost              | Accuracy: 0.8979 | ROC AUC: 0.8980\n",
            "DNN Dropout          | Accuracy: 0.8193 | ROC AUC: 0.8212\n",
            "DNN BatchNorm        | Accuracy: 0.8272 | ROC AUC: 0.8284\n",
            "\n",
            " Best Model Based on ROC AUC: Random Forest with ROC AUC: 0.9434\n"
          ]
        }
      ],
      "source": [
        "# Step: Compare All Models\n",
        "from sklearn.metrics import accuracy_score\n",
        "\n",
        "# Gather accuracy and AUC\n",
        "results = {\n",
        "    \"Random Forest\": {\n",
        "        \"accuracy\": accuracy_score(y_test, rf_pred),\n",
        "        \"roc_auc\": roc_auc_score(y_test, rf_pred)\n",
        "    },\n",
        "    \"XGBoost\": {\n",
        "        \"accuracy\": accuracy_score(y_test, xgb_pred),\n",
        "        \"roc_auc\": roc_auc_score(y_test, xgb_pred)\n",
        "    },\n",
        "    \"DNN Dropout\": {\n",
        "        \"accuracy\": accuracy_score(y_test, dl1_pred),\n",
        "        \"roc_auc\": roc_auc_score(y_test, dl1_pred)\n",
        "    },\n",
        "    \"DNN BatchNorm\": {\n",
        "        \"accuracy\": accuracy_score(y_test, dl2_pred),\n",
        "        \"roc_auc\": roc_auc_score(y_test, dl2_pred)\n",
        "    }\n",
        "}\n",
        "\n",
        "# Find the best model based on ROC AUC\n",
        "best_model = max(results.items(), key=lambda x: x[1]['roc_auc'])\n",
        "\n",
        "# Print Results\n",
        "print(\"\\n Model Comparison:\")\n",
        "for model_name, metrics in results.items():\n",
        "    print(f\"{model_name:<20} | Accuracy: {metrics['accuracy']:.4f} | ROC AUC: {metrics['roc_auc']:.4f}\")\n",
        "\n",
        "print(f\"\\n Best Model Based on ROC AUC: {best_model[0]} with ROC AUC: {best_model[1]['roc_auc']:.4f}\")\n"
      ]
    },
    {
      "cell_type": "code",
      "execution_count": null,
      "metadata": {
        "id": "ge9Am04lLw0u"
      },
      "outputs": [],
      "source": []
    }
  ],
  "metadata": {
    "colab": {
      "provenance": []
    },
    "kernelspec": {
      "display_name": "Python 3",
      "name": "python3"
    },
    "language_info": {
      "name": "python"
    }
  },
  "nbformat": 4,
  "nbformat_minor": 0
}
